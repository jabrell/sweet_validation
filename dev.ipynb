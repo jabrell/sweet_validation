{
 "cells": [
  {
   "cell_type": "code",
   "execution_count": 3,
   "metadata": {},
   "outputs": [],
   "source": [
    "from frictionless import Resource, Schema, formats\n",
    "from frictionless.fields import IntegerField"
   ]
  },
  {
   "cell_type": "code",
   "execution_count": 23,
   "metadata": {},
   "outputs": [
    {
     "data": {
      "text/plain": [
       "[['type-error',\n",
       "  'Type error in the cell \"a\" in row \"3\" and field \"tmp\" at position \"1\": type is \"integer/default\"']]"
      ]
     },
     "execution_count": 23,
     "metadata": {},
     "output_type": "execute_result"
    }
   ],
   "source": [
    "#my_format = formats.InlineControl(keys=[\"tmp\"])\n",
    "field_name = \"tmp\"\n",
    "items = [1, \"a\", 3]\n",
    "control = formats.InlineControl(keyed=True, keys=[field_name])\n",
    "data = [{field_name: i }for i in items]\n",
    "data = [[field_name]] + [[i] for i in items]\n",
    "r = Resource(\n",
    "    data=data,\n",
    "    schema=Schema(fields=[IntegerField(name=field_name)]))\n",
    "rep = r.validate()\n",
    "rep.flatten([\"type\", \"message\"])"
   ]
  },
  {
   "cell_type": "code",
   "execution_count": null,
   "metadata": {},
   "outputs": [],
   "source": []
  }
 ],
 "metadata": {
  "kernelspec": {
   "display_name": ".venv",
   "language": "python",
   "name": "python3"
  },
  "language_info": {
   "codemirror_mode": {
    "name": "ipython",
    "version": 3
   },
   "file_extension": ".py",
   "mimetype": "text/x-python",
   "name": "python",
   "nbconvert_exporter": "python",
   "pygments_lexer": "ipython3",
   "version": "3.10.15"
  }
 },
 "nbformat": 4,
 "nbformat_minor": 2
}
