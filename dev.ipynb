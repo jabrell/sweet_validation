{
 "cells": [
  {
   "cell_type": "code",
   "execution_count": 36,
   "metadata": {},
   "outputs": [],
   "source": [
    "from frictionless import Field, Resource, Schema, formats\n",
    "from frictionless.fields import IntegerField"
   ]
  },
  {
   "cell_type": "code",
   "execution_count": 37,
   "metadata": {},
   "outputs": [
    {
     "data": {
      "text/plain": [
       "[['type-error',\n",
       "  'Type error in the cell \"a\" in row \"3\" and field \"tmp\" at position \"1\": type is \"integer/default\"']]"
      ]
     },
     "execution_count": 37,
     "metadata": {},
     "output_type": "execute_result"
    }
   ],
   "source": [
    "#my_format = formats.InlineControl(keys=[\"tmp\"])\n",
    "field_name = \"tmp\"\n",
    "items = [1, \"a\", 3]\n",
    "control = formats.InlineControl(keyed=True, keys=[field_name])\n",
    "data = [{field_name: i }for i in items]\n",
    "data = [[field_name]] + [[i] for i in items]\n",
    "r = Resource(\n",
    "    data=data,\n",
    "    schema=Schema(fields=[IntegerField(name=field_name)]))\n",
    "rep = r.validate()\n",
    "rep.flatten([\"type\", \"message\"])"
   ]
  },
  {
   "cell_type": "code",
   "execution_count": 40,
   "metadata": {},
   "outputs": [
    {
     "name": "stdout",
     "output_type": "stream",
     "text": [
      "tmp: [1, 2, 3]\n",
      "test22: [1, 2, 3]\n"
     ]
    }
   ],
   "source": [
    "class MyList(list):\n",
    "    def __init__(self, field: Field, initial_data=None):  # name is now a parameter\n",
    "        super().__init__()\n",
    "        self.field = field  # Set the instance variable 'name'\n",
    "        if initial_data is not None:\n",
    "            self.extend(initial_data)\n",
    "\n",
    "    def __str__(self):\n",
    "        return f\"{self.field.name}: {super().__str__()}\"\n",
    "\n",
    "\n",
    "# Example usage:\n",
    "list1 = MyList(field=IntegerField(name=field_name), initial_data=[1, 2, 3])\n",
    "print(list1)  # Output: List 1: [1, 2, 3]\n",
    "list1.field = IntegerField(name=\"test22\") # Modifying the instance variable\n",
    "print(list1) # Output: Updated List 1 Name: [1, 2, 3]\n"
   ]
  },
  {
   "cell_type": "code",
   "execution_count": 28,
   "metadata": {},
   "outputs": [
    {
     "data": {
      "text/plain": [
       "[1, 2, 3]"
      ]
     },
     "execution_count": 28,
     "metadata": {},
     "output_type": "execute_result"
    }
   ],
   "source": []
  },
  {
   "cell_type": "code",
   "execution_count": null,
   "metadata": {},
   "outputs": [],
   "source": []
  }
 ],
 "metadata": {
  "kernelspec": {
   "display_name": ".venv",
   "language": "python",
   "name": "python3"
  },
  "language_info": {
   "codemirror_mode": {
    "name": "ipython",
    "version": 3
   },
   "file_extension": ".py",
   "mimetype": "text/x-python",
   "name": "python",
   "nbconvert_exporter": "python",
   "pygments_lexer": "ipython3",
   "version": "3.10.15"
  }
 },
 "nbformat": 4,
 "nbformat_minor": 2
}
